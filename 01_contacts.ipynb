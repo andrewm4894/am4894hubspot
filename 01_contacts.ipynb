{
 "cells": [
  {
   "cell_type": "code",
   "execution_count": null,
   "metadata": {},
   "outputs": [],
   "source": [
    "# default_exp contacts"
   ]
  },
  {
   "cell_type": "markdown",
   "metadata": {},
   "source": [
    "# contacts\n",
    "\n",
    "> API details."
   ]
  },
  {
   "cell_type": "code",
   "execution_count": null,
   "metadata": {},
   "outputs": [],
   "source": [
    "#hide\n",
    "from nbdev.showdoc import *"
   ]
  },
  {
   "cell_type": "code",
   "execution_count": null,
   "metadata": {},
   "outputs": [
    {
     "data": {
      "text/plain": [
       "True"
      ]
     },
     "execution_count": null,
     "metadata": {},
     "output_type": "execute_result"
    }
   ],
   "source": [
    "#hide\n",
    "#export\n",
    "import time\n",
    "import os\n",
    "import json\n",
    "import requests\n",
    "from dotenv import load_dotenv\n",
    "from am4894hubspot.search import hubspot_search\n",
    "load_dotenv()"
   ]
  },
  {
   "cell_type": "code",
   "execution_count": null,
   "metadata": {},
   "outputs": [],
   "source": [
    "hapikey = os.environ.get('HUBSPOT_API_KEY','demo')\n",
    "#hapikey = 'demo'"
   ]
  },
  {
   "cell_type": "code",
   "execution_count": null,
   "metadata": {},
   "outputs": [],
   "source": [
    "#export\n",
    "\n",
    "\n",
    "def create_contact(contact=None, hapikey=None):\n",
    "    \"\"\"\n",
    "    Create a contact.\n",
    "    \"\"\"\n",
    "    if contact is None:\n",
    "        contact = dict(email='sometestuser@example.com')\n",
    "    if hapikey is None:\n",
    "        hapikey = os.environ.get('HUBSPOT_API_KEY','demo')\n",
    "    if not contact_exists(contact['email']):\n",
    "        endpoint = 'https://api.hubapi.com/contacts/v1/contact/'\n",
    "        url = f'{endpoint}?hapikey={hapikey}'\n",
    "        headers = {\n",
    "            \"Content-Type\": \"application/json\"\n",
    "        }\n",
    "        data = json.dumps({\"properties\": [{\"property\": k,\"value\": contact[k]} for k in contact]})\n",
    "        r = requests.post(url=url, data=data, headers=headers)\n",
    "        response = r.json()\n",
    "        if response['properties']['email']['value'] == contact['email']:\n",
    "            response['status'] = 'created'\n",
    "        else:\n",
    "            response['status'] = 'error'\n",
    "        return response\n",
    "    else:\n",
    "        response = get_contact(contact['email'])\n",
    "        if response['properties']['email'] == contact['email']:\n",
    "            response['status'] = 'exists'\n",
    "        else:\n",
    "            response['status'] = 'error'\n",
    "        return response"
   ]
  },
  {
   "cell_type": "code",
   "execution_count": null,
   "metadata": {},
   "outputs": [],
   "source": [
    "#export\n",
    "\n",
    "\n",
    "def contact_exists(value, property='email', operator='EQ', hapikey=None) -> bool:\n",
    "    \"\"\"\n",
    "    Check if a contact exists.\n",
    "    \"\"\"\n",
    "    r = hubspot_search(value, property=property, operator=operator, hapikey=hapikey)\n",
    "    if r.get('total',0) > 0:\n",
    "        return True\n",
    "    else:\n",
    "        return False"
   ]
  },
  {
   "cell_type": "code",
   "execution_count": null,
   "metadata": {},
   "outputs": [],
   "source": [
    "#export\n",
    "\n",
    "\n",
    "def get_contact(value, property='email', operator='EQ', hapikey=None):\n",
    "    \"\"\"\n",
    "    Get contact.\n",
    "    \"\"\"\n",
    "    if hapikey is None:\n",
    "        hapikey = os.environ.get('HUBSPOT_API_KEY','demo')\n",
    "    r = hubspot_search(value, property=property, operator=operator, hapikey=hapikey)\n",
    "    if r['total'] > 0:\n",
    "        contact = r['results'][0]\n",
    "        return contact\n",
    "    else:\n",
    "        return None"
   ]
  },
  {
   "cell_type": "code",
   "execution_count": null,
   "metadata": {},
   "outputs": [],
   "source": [
    "#export \n",
    "\n",
    "\n",
    "def delete_contact(vid=None, hapikey=None):\n",
    "    \"\"\"\n",
    "    Delete a contact.\n",
    "    \"\"\"\n",
    "    if hapikey is None:\n",
    "        hapikey = os.environ.get('HUBSPOT_API_KEY','demo')\n",
    "    endpoint = f'https://api.hubapi.com/contacts/v1/contact/vid/{vid}'\n",
    "    url = f'{endpoint}?hapikey={hapikey}'\n",
    "    headers = {\n",
    "        \"Content-Type\": \"application/json\"\n",
    "    }\n",
    "    r = requests.delete(url=url, headers=headers)\n",
    "    return r.json()"
   ]
  },
  {
   "cell_type": "code",
   "execution_count": null,
   "metadata": {},
   "outputs": [],
   "source": [
    "#export\n",
    "\n",
    "\n",
    "def create_contacts(contacts=None, hapikey=None, check_exists=True):\n",
    "    \"\"\"\n",
    "    Create contacts from a list of contacts.\n",
    "    \"\"\"\n",
    "    if hapikey is None:\n",
    "        hapikey = os.environ.get('HUBSPOT_API_KEY','demo')\n",
    "    url = \"https://api.hubapi.com/contacts/v1/contact/batch\"\n",
    "    querystring = {\"hapikey\": hapikey}\n",
    "    headers = {\"Content-Type\": \"application/json\"}\n",
    "    payload = []\n",
    "    # loop over contacts and build payload to send\n",
    "    for contact in contacts:\n",
    "        email = contact[\"email\"]\n",
    "        payload.append({\"email\": email, \"properties\": [{\"property\": k,\"value\": contact[k]} for k in contact]})\n",
    "    payload = json.dumps(payload)\n",
    "    r = requests.request(\"POST\", url, data=payload, headers=headers, params=querystring)\n",
    "    if r.status_code == 202:\n",
    "        return True\n",
    "    else:\n",
    "        raise ValueError(f\"batch contact creation failed status_code={r.status_code} reason={r.reason}\")\n",
    "        return False"
   ]
  },
  {
   "cell_type": "code",
   "execution_count": null,
   "metadata": {},
   "outputs": [],
   "source": [
    "# tests\n",
    "\n",
    "test_email = 'fake_user@example.com'\n",
    "\n",
    "# create an example minimal contact\n",
    "contact_data = {\n",
    "    \"email\": test_email\n",
    "}\n",
    "\n",
    "# create contact\n",
    "result_create = create_contact(contact_data)\n",
    "assert result_create['status'] in ['created', 'exists']\n",
    "\n",
    "time.sleep(5)\n",
    "\n",
    "# check it exists\n",
    "assert contact_exists(test_email) == True\n",
    "\n",
    "# get contact\n",
    "contact = get_contact(test_email)\n",
    "assert contact['properties']['email'] == test_email\n",
    "\n",
    "# delete contact\n",
    "result_delete = delete_contact(vid=contact['id'])\n",
    "assert result_delete['deleted'] == True\n",
    "\n",
    "## create batch of contacts\n",
    "#test_contacts = [\n",
    "#    dict(email='user1@example.com'),\n",
    "#    dict(email='user2@example.com'),\n",
    "#]\n",
    "#assert create_contacts(test_contacts) == True\n",
    "#time.sleep(5)\n",
    "## now clean up and delete them\n",
    "#for test_contact in test_contacts:\n",
    "#    time.sleep(5)\n",
    "#    test_email = test_contact['email']\n",
    "#    test_contact_vid = get_contact(test_email)['id']\n",
    "#    delete_contact(vid=test_contact_vid)"
   ]
  },
  {
   "cell_type": "code",
   "execution_count": null,
   "metadata": {},
   "outputs": [],
   "source": []
  },
  {
   "cell_type": "code",
   "execution_count": null,
   "metadata": {},
   "outputs": [],
   "source": []
  },
  {
   "cell_type": "code",
   "execution_count": null,
   "metadata": {},
   "outputs": [],
   "source": []
  },
  {
   "cell_type": "code",
   "execution_count": null,
   "metadata": {},
   "outputs": [],
   "source": []
  }
 ],
 "metadata": {
  "kernelspec": {
   "display_name": "Python 3",
   "language": "python",
   "name": "python3"
  }
 },
 "nbformat": 4,
 "nbformat_minor": 4
}
