{
 "cells": [
  {
   "cell_type": "code",
   "execution_count": 1,
   "metadata": {},
   "outputs": [],
   "source": [
    "# default_exp search"
   ]
  },
  {
   "cell_type": "markdown",
   "metadata": {},
   "source": [
    "# search\n",
    "\n",
    "> API details."
   ]
  },
  {
   "cell_type": "code",
   "execution_count": 2,
   "metadata": {},
   "outputs": [],
   "source": [
    "# hide\n",
    "from nbdev.showdoc import *"
   ]
  },
  {
   "cell_type": "code",
   "execution_count": 3,
   "metadata": {},
   "outputs": [
    {
     "output_type": "execute_result",
     "data": {
      "text/plain": [
       "True"
      ]
     },
     "metadata": {},
     "execution_count": 3
    }
   ],
   "source": [
    "# hide\n",
    "# export\n",
    "\n",
    "import os\n",
    "import json\n",
    "import requests\n",
    "from dotenv import load_dotenv\n",
    "load_dotenv()"
   ]
  },
  {
   "cell_type": "code",
   "execution_count": 4,
   "metadata": {},
   "outputs": [],
   "source": [
    "hapikey = os.environ.get('HUBSPOT_API_KEY','demo')\n",
    "#hapikey = 'demo'"
   ]
  },
  {
   "cell_type": "code",
   "execution_count": 5,
   "metadata": {},
   "outputs": [],
   "source": [
    "# export\n",
    "\n",
    "\n",
    "def hubspot_search(value, property='email', operator='EQ', hapikey=None, properties=None):\n",
    "    \"\"\"\n",
    "    Search hubspot based on one filter condition.\n",
    "    \"\"\"\n",
    "    if hapikey is None:\n",
    "        hapikey = os.environ.get('HUBSPOT_API_KEY','demo')\n",
    "    if properties is None:\n",
    "        properties = ['email', 'createdate', 'firstname', 'lastname', 'lastmodifieddate', 'hs_object_id'] \n",
    "    url = 'https://api.hubapi.com/crm/v3/objects/contacts/search'\n",
    "    querystring = {\"hapikey\": hapikey}\n",
    "    headers = {\n",
    "        \"accept\": \"application/json\",\n",
    "        \"Content-Type\": \"application/json\"\n",
    "    }\n",
    "    data = json.dumps({\n",
    "        \"filterGroups\": [\n",
    "            {\n",
    "                \"filters\": [\n",
    "                    {\n",
    "                        \"propertyName\": property,\n",
    "                        \"operator\": operator,\n",
    "                        \"value\": value\n",
    "                    }\n",
    "                ]\n",
    "            }\n",
    "        ],\n",
    "        \"properties\" : properties\n",
    "    })\n",
    "    r = requests.post(url=url, data=data, headers=headers, params=querystring)\n",
    "    return r.json()\n",
    "\n"
   ]
  },
  {
   "cell_type": "code",
   "execution_count": 6,
   "metadata": {},
   "outputs": [
    {
     "output_type": "execute_result",
     "data": {
      "text/plain": [
       "{'total': 1,\n",
       " 'results': [{'id': '4501051',\n",
       "   'properties': {'createdate': '2019-09-09T21:11:35.717Z',\n",
       "    'email': 'andrewm4894@gmail.com',\n",
       "    'firstname': 'Andrew',\n",
       "    'hs_object_id': '4501051',\n",
       "    'lastmodifieddate': '2020-11-12T16:34:42.713Z',\n",
       "    'lastname': 'Maguire'},\n",
       "   'createdAt': '2019-09-09T21:11:35.717Z',\n",
       "   'updatedAt': '2020-11-12T16:34:42.713Z',\n",
       "   'archived': False}]}"
      ]
     },
     "metadata": {},
     "execution_count": 6
    }
   ],
   "source": [
    "# example\n",
    "results = hubspot_search('andrewm4894@gmail.com', hapikey=hapikey)\n",
    "results"
   ]
  },
  {
   "cell_type": "code",
   "execution_count": 7,
   "metadata": {},
   "outputs": [
    {
     "output_type": "execute_result",
     "data": {
      "text/plain": [
       "{'total': 1,\n",
       " 'results': [{'id': '4501051',\n",
       "   'properties': {'city': 'Dublin',\n",
       "    'createdate': '2019-09-09T21:11:35.717Z',\n",
       "    'firstname': 'Andrew',\n",
       "    'hs_object_id': '4501051',\n",
       "    'lastmodifieddate': '2020-11-12T16:34:42.713Z'},\n",
       "   'createdAt': '2019-09-09T21:11:35.717Z',\n",
       "   'updatedAt': '2020-11-12T16:34:42.713Z',\n",
       "   'archived': False}]}"
      ]
     },
     "metadata": {},
     "execution_count": 7
    }
   ],
   "source": [
    "# example with extra properties\n",
    "results = hubspot_search('andrewm4894@gmail.com', hapikey=hapikey, properties=[\"firstname\",\"city\"])\n",
    "results"
   ]
  },
  {
   "cell_type": "code",
   "execution_count": 8,
   "metadata": {},
   "outputs": [],
   "source": [
    "# tests\n",
    "\n",
    "results = hubspot_search('andrewm4894@gmail.com', hapikey=hapikey)\n",
    "results_email = results['results'][0]['properties']['email']\n",
    "assert results_email == 'andrewm4894@gmail.com'\n",
    "\n",
    "results = hubspot_search('andrewm4894@gmail.com', hapikey=hapikey, properties=[\"city\"])\n",
    "results_city = results['results'][0]['properties']['city']\n",
    "assert results_city == 'Dublin'"
   ]
  },
  {
   "cell_type": "code",
   "execution_count": null,
   "metadata": {},
   "outputs": [],
   "source": []
  }
 ],
 "metadata": {
  "kernelspec": {
   "display_name": "Python 3",
   "language": "python",
   "name": "python3"
  },
  "language_info": {
   "codemirror_mode": {
    "name": "ipython",
    "version": 3
   },
   "file_extension": ".py",
   "mimetype": "text/x-python",
   "name": "python",
   "nbconvert_exporter": "python",
   "pygments_lexer": "ipython3",
   "version": "3.8.2-final"
  }
 },
 "nbformat": 4,
 "nbformat_minor": 4
}