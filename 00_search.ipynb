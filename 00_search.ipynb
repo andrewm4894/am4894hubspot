{
 "cells": [
  {
   "cell_type": "code",
   "execution_count": null,
   "metadata": {},
   "outputs": [],
   "source": [
    "# default_exp search"
   ]
  },
  {
   "cell_type": "markdown",
   "metadata": {},
   "source": [
    "# search\n",
    "\n",
    "> API details."
   ]
  },
  {
   "cell_type": "code",
   "execution_count": 2,
   "metadata": {},
   "outputs": [],
   "source": [
    "# hide\n",
    "from nbdev.showdoc import *"
   ]
  },
  {
   "cell_type": "code",
   "execution_count": 3,
   "metadata": {},
   "outputs": [
    {
     "data": {
      "text/plain": [
       "True"
      ]
     },
     "execution_count": 3,
     "metadata": {},
     "output_type": "execute_result"
    }
   ],
   "source": [
    "# hide\n",
    "# export\n",
    "\n",
    "import os\n",
    "import json\n",
    "import requests\n",
    "from dotenv import load_dotenv\n",
    "load_dotenv()"
   ]
  },
  {
   "cell_type": "code",
   "execution_count": 4,
   "metadata": {},
   "outputs": [],
   "source": [
    "hapikey = os.environ.get('HUBSPOT_API_KEY','demo')\n",
    "#hapikey = 'demo'"
   ]
  },
  {
   "cell_type": "code",
   "execution_count": 5,
   "metadata": {},
   "outputs": [],
   "source": [
    "# export\n",
    "\n",
    "\n",
    "def hubspot_search(value, property='email', operator='EQ', hapikey=None):\n",
    "    \"\"\"\n",
    "    Search hubspot based on one filter condition.\n",
    "    \"\"\"\n",
    "    if hapikey is None:\n",
    "        hapikey = os.environ.get('HUBSPOT_API_KEY','demo')\n",
    "    endpoint = 'https://api.hubapi.com/crm/v3/objects/contacts/search'\n",
    "    url = f'{endpoint}?hapikey={hapikey}'\n",
    "    headers = {\n",
    "        \"Content-Type\": \"application/json\"\n",
    "    }\n",
    "    data = json.dumps({\n",
    "        \"filterGroups\": [\n",
    "            {\n",
    "                \"filters\": [\n",
    "                    {\n",
    "                        \"propertyName\": property,\n",
    "                        \"operator\": operator,\n",
    "                        \"value\": value\n",
    "                    }\n",
    "                ]\n",
    "            }\n",
    "        ]\n",
    "    })\n",
    "    r = requests.post(url=url, data=data, headers=headers)\n",
    "    return r.json()\n",
    "\n"
   ]
  },
  {
   "cell_type": "code",
   "execution_count": 6,
   "metadata": {},
   "outputs": [
    {
     "data": {
      "text/plain": [
       "{'total': 1,\n",
       " 'results': [{'id': '4501051',\n",
       "   'properties': {'createdate': '2019-09-09T21:11:35.717Z',\n",
       "    'email': 'andrewm4894@gmail.com',\n",
       "    'firstname': 'Andrew',\n",
       "    'hs_object_id': '4501051',\n",
       "    'lastmodifieddate': '2020-10-30T12:44:45.730Z',\n",
       "    'lastname': 'Maguire'},\n",
       "   'createdAt': '2019-09-09T21:11:35.717Z',\n",
       "   'updatedAt': '2020-10-30T12:44:45.730Z',\n",
       "   'archived': False}]}"
      ]
     },
     "execution_count": 6,
     "metadata": {},
     "output_type": "execute_result"
    }
   ],
   "source": [
    "# example\n",
    "results = hubspot_search('andrewm4894@gmail.com', hapikey=hapikey)\n",
    "results"
   ]
  },
  {
   "cell_type": "code",
   "execution_count": 7,
   "metadata": {},
   "outputs": [],
   "source": [
    "# tests\n",
    "\n",
    "results = hubspot_search('andrewm4894@gmail.com', hapikey=hapikey)\n",
    "results_email = results['results'][0]['properties']['email']\n",
    "assert results_email == 'andrewm4894@gmail.com'"
   ]
  },
  {
   "cell_type": "code",
   "execution_count": null,
   "metadata": {},
   "outputs": [],
   "source": []
  }
 ],
 "metadata": {
  "kernelspec": {
   "display_name": "Python 3",
   "language": "python",
   "name": "python3"
  },
  "language_info": {
   "codemirror_mode": {
    "name": "ipython",
    "version": 3
   },
   "file_extension": ".py",
   "mimetype": "text/x-python",
   "name": "python",
   "nbconvert_exporter": "python",
   "pygments_lexer": "ipython3",
   "version": "3.8.2"
  }
 },
 "nbformat": 4,
 "nbformat_minor": 4
}
