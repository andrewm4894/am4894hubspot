{
 "cells": [
  {
   "cell_type": "code",
   "execution_count": null,
   "metadata": {},
   "outputs": [],
   "source": [
    "%load_ext autoreload\n",
    "%autoreload 2"
   ]
  },
  {
   "cell_type": "code",
   "execution_count": null,
   "metadata": {},
   "outputs": [],
   "source": [
    "import json \n",
    "import os\n",
    "\n",
    "import requests\n",
    "from dotenv import load_dotenv\n",
    "from am4894hubspot.search import hubspot_search\n",
    "\n",
    "load_dotenv()\n",
    "\n",
    "hapikey = os.environ['HUBSPOT_API_KEY']"
   ]
  },
  {
   "cell_type": "code",
   "execution_count": null,
   "metadata": {},
   "outputs": [],
   "source": [
    "results = hubspot_search('andrewm4894@gmail.com')"
   ]
  },
  {
   "cell_type": "code",
   "execution_count": null,
   "metadata": {},
   "outputs": [
    {
     "data": {
      "text/plain": [
       "{'total': 1,\n",
       " 'results': [{'id': '4501051',\n",
       "   'properties': {'createdate': '2019-09-09T21:11:35.717Z',\n",
       "    'email': 'andrewm4894@gmail.com',\n",
       "    'firstname': 'Andrew',\n",
       "    'hs_object_id': '4501051',\n",
       "    'lastmodifieddate': '2020-05-28T15:53:39.704Z',\n",
       "    'lastname': 'Maguire'},\n",
       "   'createdAt': '2019-09-09T21:11:35.717Z',\n",
       "   'updatedAt': '2020-05-28T15:53:39.704Z',\n",
       "   'archived': False}]}"
      ]
     },
     "execution_count": null,
     "metadata": {},
     "output_type": "execute_result"
    }
   ],
   "source": [
    "results"
   ]
  },
  {
   "cell_type": "code",
   "execution_count": null,
   "metadata": {},
   "outputs": [],
   "source": []
  },
  {
   "cell_type": "code",
   "execution_count": null,
   "metadata": {},
   "outputs": [],
   "source": []
  },
  {
   "cell_type": "code",
   "execution_count": null,
   "metadata": {},
   "outputs": [],
   "source": []
  },
  {
   "cell_type": "code",
   "execution_count": null,
   "metadata": {},
   "outputs": [],
   "source": []
  }
 ],
 "metadata": {
  "kernelspec": {
   "display_name": "Python 3",
   "language": "python",
   "name": "python3"
  }
 },
 "nbformat": 4,
 "nbformat_minor": 4
}
