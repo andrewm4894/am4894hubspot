{
 "cells": [
  {
   "cell_type": "code",
   "execution_count": null,
   "metadata": {},
   "outputs": [],
   "source": [
    "%load_ext autoreload\n",
    "%autoreload 2"
   ]
  },
  {
   "cell_type": "code",
   "execution_count": null,
   "metadata": {},
   "outputs": [],
   "source": [
    "import os\n",
    "from dotenv import load_dotenv\n",
    "from am4894hubspot.search import hubspot_search\n",
    "\n",
    "load_dotenv()\n",
    "\n",
    "hapikey = os.environ['HUBSPOT_API_KEY']"
   ]
  },
  {
   "cell_type": "code",
   "execution_count": null,
   "metadata": {},
   "outputs": [],
   "source": [
    "results = hubspot_search('andrewm4894@gmail.com')"
   ]
  },
  {
   "cell_type": "code",
   "execution_count": null,
   "metadata": {},
   "outputs": [
    {
     "data": {
      "text/plain": [
       "{'status': 'error',\n",
       " 'message': \"Only GET requests can be made to HubSpot's demo account. You can create a test account to try other methods. You can find more details at https://developers.hubspot.com/docs/faq/how-do-i-create-a-test-account.\",\n",
       " 'correlationId': 'fb31bb08-806f-42b4-9d19-9bb951ab37e3',\n",
       " 'category': 'INVALID_AUTHENTICATION',\n",
       " 'links': {'test account': 'https://developers.hubspot.com/docs/faq/how-do-i-create-a-test-account'}}"
      ]
     },
     "execution_count": null,
     "metadata": {},
     "output_type": "execute_result"
    }
   ],
   "source": [
    "results"
   ]
  },
  {
   "cell_type": "code",
   "execution_count": null,
   "metadata": {},
   "outputs": [],
   "source": []
  }
 ],
 "metadata": {
  "kernelspec": {
   "display_name": "Python 3",
   "language": "python",
   "name": "python3"
  }
 },
 "nbformat": 4,
 "nbformat_minor": 4
}
